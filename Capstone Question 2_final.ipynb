{
 "cells": [
  {
   "cell_type": "markdown",
   "metadata": {},
   "source": [
    "# What Areas Should the Agency Focus On?\n",
    "\n",
    "## The goal of this exercise is to do explore the data to find the answer to the Question 2 problem statement:\n",
    "\n",
    "### Should the Department of Housing Preservation and Development of New York City focus on any particular set of boroughs, ZIP codes, or street (where the complaints are severe) for the specific type of complaints you identified in response to Question 1?\n",
    "\n",
    "### In this exercise, you will use 311 Dataset to determine whether to focus on any particular borough, ZIP code, or street (where the complaints are severe) for the specific Complaint Type you decided to focus at the end of the last exercise.\n",
    "\n",
    "#### My approach to this exercise is simple.  The plan is to explore the data and look at zip codes, boroughs, streets, and addresses to look for areas where complaints are concentrated."
   ]
  },
  {
   "cell_type": "code",
   "execution_count": 2,
   "metadata": {},
   "outputs": [
    {
     "name": "stdout",
     "output_type": "stream",
     "text": [
      "Loaded\n"
     ]
    }
   ],
   "source": [
    "# importing libraries\n",
    "import numpy as np\n",
    "import pandas as pd\n",
    "\n",
    "# loading 311 data set\n",
    "filename = 'https://data.cityofnewyork.us/resource/fhrw-4uyv.csv?$limit=100000000&Agency=HPD&$select=created_date,unique_key,complaint_type,incident_zip,incident_address,street_name,address_type,city,resolution_description,borough,latitude,longitude,closed_date,location_type,status'\n",
    "df_main = pd.read_csv(filename, parse_dates=True)\n",
    "print(\"Loaded\")"
   ]
  },
  {
   "cell_type": "code",
   "execution_count": 9,
   "metadata": {},
   "outputs": [],
   "source": [
    "df = df_main"
   ]
  },
  {
   "cell_type": "code",
   "execution_count": 10,
   "metadata": {},
   "outputs": [
    {
     "data": {
      "text/plain": [
       "Index(['created_date', 'unique_key', 'complaint_type', 'incident_zip',\n",
       "       'incident_address', 'street_name', 'address_type', 'city',\n",
       "       'resolution_description', 'borough', 'latitude', 'longitude',\n",
       "       'closed_date', 'location_type', 'status'],\n",
       "      dtype='object')"
      ]
     },
     "execution_count": 10,
     "metadata": {},
     "output_type": "execute_result"
    }
   ],
   "source": [
    "df.columns # viewing data set features"
   ]
  },
  {
   "cell_type": "code",
   "execution_count": 11,
   "metadata": {},
   "outputs": [
    {
     "data": {
      "text/plain": [
       "(5880423, 15)"
      ]
     },
     "execution_count": 11,
     "metadata": {},
     "output_type": "execute_result"
    }
   ],
   "source": [
    "df.shape"
   ]
  },
  {
   "cell_type": "code",
   "execution_count": 12,
   "metadata": {},
   "outputs": [
    {
     "data": {
      "text/html": [
       "<div>\n",
       "<style scoped>\n",
       "    .dataframe tbody tr th:only-of-type {\n",
       "        vertical-align: middle;\n",
       "    }\n",
       "\n",
       "    .dataframe tbody tr th {\n",
       "        vertical-align: top;\n",
       "    }\n",
       "\n",
       "    .dataframe thead th {\n",
       "        text-align: right;\n",
       "    }\n",
       "</style>\n",
       "<table border=\"1\" class=\"dataframe\">\n",
       "  <thead>\n",
       "    <tr style=\"text-align: right;\">\n",
       "      <th></th>\n",
       "      <th>created_date</th>\n",
       "      <th>unique_key</th>\n",
       "      <th>complaint_type</th>\n",
       "      <th>incident_zip</th>\n",
       "      <th>incident_address</th>\n",
       "      <th>street_name</th>\n",
       "      <th>address_type</th>\n",
       "      <th>city</th>\n",
       "      <th>resolution_description</th>\n",
       "      <th>borough</th>\n",
       "      <th>latitude</th>\n",
       "      <th>longitude</th>\n",
       "      <th>closed_date</th>\n",
       "      <th>location_type</th>\n",
       "      <th>status</th>\n",
       "    </tr>\n",
       "  </thead>\n",
       "  <tbody>\n",
       "    <tr>\n",
       "      <th>0</th>\n",
       "      <td>2019-10-19T10:28:32.000</td>\n",
       "      <td>44098315</td>\n",
       "      <td>HEAT/HOT WATER</td>\n",
       "      <td>11103.0</td>\n",
       "      <td>25-86 44 STREET</td>\n",
       "      <td>44 STREET</td>\n",
       "      <td>ADDRESS</td>\n",
       "      <td>Astoria</td>\n",
       "      <td>The following complaint conditions are still o...</td>\n",
       "      <td>QUEENS</td>\n",
       "      <td>40.766013</td>\n",
       "      <td>-73.908861</td>\n",
       "      <td>NaN</td>\n",
       "      <td>RESIDENTIAL BUILDING</td>\n",
       "      <td>Open</td>\n",
       "    </tr>\n",
       "    <tr>\n",
       "      <th>1</th>\n",
       "      <td>2019-10-19T09:54:21.000</td>\n",
       "      <td>44097917</td>\n",
       "      <td>HEAT/HOT WATER</td>\n",
       "      <td>11239.0</td>\n",
       "      <td>135 ELMIRA LOOP</td>\n",
       "      <td>ELMIRA LOOP</td>\n",
       "      <td>ADDRESS</td>\n",
       "      <td>BROOKLYN</td>\n",
       "      <td>The following complaint conditions are still o...</td>\n",
       "      <td>BROOKLYN</td>\n",
       "      <td>40.648972</td>\n",
       "      <td>-73.880765</td>\n",
       "      <td>NaN</td>\n",
       "      <td>RESIDENTIAL BUILDING</td>\n",
       "      <td>Open</td>\n",
       "    </tr>\n",
       "    <tr>\n",
       "      <th>2</th>\n",
       "      <td>2019-10-19T11:34:26.000</td>\n",
       "      <td>44094672</td>\n",
       "      <td>HEAT/HOT WATER</td>\n",
       "      <td>10455.0</td>\n",
       "      <td>753 EAST  151 STREET</td>\n",
       "      <td>EAST  151 STREET</td>\n",
       "      <td>ADDRESS</td>\n",
       "      <td>BRONX</td>\n",
       "      <td>The complaint you filed is a duplicate of a co...</td>\n",
       "      <td>BRONX</td>\n",
       "      <td>40.814851</td>\n",
       "      <td>-73.907219</td>\n",
       "      <td>NaN</td>\n",
       "      <td>RESIDENTIAL BUILDING</td>\n",
       "      <td>Open</td>\n",
       "    </tr>\n",
       "    <tr>\n",
       "      <th>3</th>\n",
       "      <td>2019-10-19T23:26:42.000</td>\n",
       "      <td>44098466</td>\n",
       "      <td>HEAT/HOT WATER</td>\n",
       "      <td>10037.0</td>\n",
       "      <td>45 WEST  139 STREET</td>\n",
       "      <td>WEST  139 STREET</td>\n",
       "      <td>ADDRESS</td>\n",
       "      <td>NEW YORK</td>\n",
       "      <td>The complaint you filed is a duplicate of a co...</td>\n",
       "      <td>MANHATTAN</td>\n",
       "      <td>40.816099</td>\n",
       "      <td>-73.937604</td>\n",
       "      <td>NaN</td>\n",
       "      <td>RESIDENTIAL BUILDING</td>\n",
       "      <td>Open</td>\n",
       "    </tr>\n",
       "    <tr>\n",
       "      <th>4</th>\n",
       "      <td>2019-10-19T09:50:41.000</td>\n",
       "      <td>44096293</td>\n",
       "      <td>HEAT/HOT WATER</td>\n",
       "      <td>10040.0</td>\n",
       "      <td>45 WADSWORTH TERRACE</td>\n",
       "      <td>WADSWORTH TERRACE</td>\n",
       "      <td>ADDRESS</td>\n",
       "      <td>NEW YORK</td>\n",
       "      <td>The complaint you filed is a duplicate of a co...</td>\n",
       "      <td>MANHATTAN</td>\n",
       "      <td>40.855888</td>\n",
       "      <td>-73.931570</td>\n",
       "      <td>NaN</td>\n",
       "      <td>RESIDENTIAL BUILDING</td>\n",
       "      <td>Open</td>\n",
       "    </tr>\n",
       "  </tbody>\n",
       "</table>\n",
       "</div>"
      ],
      "text/plain": [
       "              created_date  unique_key  complaint_type  incident_zip  \\\n",
       "0  2019-10-19T10:28:32.000    44098315  HEAT/HOT WATER       11103.0   \n",
       "1  2019-10-19T09:54:21.000    44097917  HEAT/HOT WATER       11239.0   \n",
       "2  2019-10-19T11:34:26.000    44094672  HEAT/HOT WATER       10455.0   \n",
       "3  2019-10-19T23:26:42.000    44098466  HEAT/HOT WATER       10037.0   \n",
       "4  2019-10-19T09:50:41.000    44096293  HEAT/HOT WATER       10040.0   \n",
       "\n",
       "       incident_address        street_name address_type      city  \\\n",
       "0       25-86 44 STREET          44 STREET      ADDRESS   Astoria   \n",
       "1       135 ELMIRA LOOP        ELMIRA LOOP      ADDRESS  BROOKLYN   \n",
       "2  753 EAST  151 STREET   EAST  151 STREET      ADDRESS     BRONX   \n",
       "3   45 WEST  139 STREET   WEST  139 STREET      ADDRESS  NEW YORK   \n",
       "4  45 WADSWORTH TERRACE  WADSWORTH TERRACE      ADDRESS  NEW YORK   \n",
       "\n",
       "                              resolution_description    borough   latitude  \\\n",
       "0  The following complaint conditions are still o...     QUEENS  40.766013   \n",
       "1  The following complaint conditions are still o...   BROOKLYN  40.648972   \n",
       "2  The complaint you filed is a duplicate of a co...      BRONX  40.814851   \n",
       "3  The complaint you filed is a duplicate of a co...  MANHATTAN  40.816099   \n",
       "4  The complaint you filed is a duplicate of a co...  MANHATTAN  40.855888   \n",
       "\n",
       "   longitude closed_date         location_type status  \n",
       "0 -73.908861         NaN  RESIDENTIAL BUILDING   Open  \n",
       "1 -73.880765         NaN  RESIDENTIAL BUILDING   Open  \n",
       "2 -73.907219         NaN  RESIDENTIAL BUILDING   Open  \n",
       "3 -73.937604         NaN  RESIDENTIAL BUILDING   Open  \n",
       "4 -73.931570         NaN  RESIDENTIAL BUILDING   Open  "
      ]
     },
     "execution_count": 12,
     "metadata": {},
     "output_type": "execute_result"
    }
   ],
   "source": [
    "df.head()"
   ]
  },
  {
   "cell_type": "markdown",
   "metadata": {},
   "source": [
    "### First we need to filter our data set down to rows containing heat/hot water complaints, which were determined to be the top complaint for exercise 1."
   ]
  },
  {
   "cell_type": "code",
   "execution_count": 13,
   "metadata": {},
   "outputs": [
    {
     "data": {
      "text/plain": [
       "89-21 ELMHURST AVENUE             9546\n",
       "1025 BOYNTON AVENUE               5208\n",
       "34 ARDEN STREET                   4929\n",
       "9511 SHORE ROAD                   3978\n",
       "2090 EAST TREMONT AVENUE          3573\n",
       "1711 FULTON STREET                2571\n",
       "2968 PERRY AVENUE                 2307\n",
       "888 GRAND CONCOURSE               2231\n",
       "1425 DR M L KING JR BOULEVARD     2166\n",
       "266 BEDFORD PARK BOULEVARD        2143\n",
       "72-10 41 AVENUE                   2119\n",
       "2040 BRONXDALE AVENUE             1976\n",
       "3810 BAILEY AVENUE                1940\n",
       "2750 HOMECREST AVENUE             1895\n",
       "1030 BOYNTON AVENUE               1883\n",
       "30 BUCHANAN PLACE                 1740\n",
       "109 NORTH    7 STREET             1692\n",
       "2074 WALLACE AVENUE               1591\n",
       "2410 WASHINGTON AVENUE            1452\n",
       "381 VERNON AVENUE                 1418\n",
       "750 GRAND CONCOURSE               1405\n",
       "2856 WEBB AVENUE                  1248\n",
       "3605 SEDGWICK AVENUE              1246\n",
       "712 CROWN STREET                  1201\n",
       "554 DE KALB AVENUE                1145\n",
       "170 HAWTHORNE STREET              1097\n",
       "2500 WEBB AVENUE                  1070\n",
       "2995 BOTANICAL SQUARE              983\n",
       "644 RIVERSIDE DRIVE                977\n",
       "1225 SHERIDAN AVENUE               965\n",
       "                                  ... \n",
       "1005 WARD AVENUE                     1\n",
       "38-01 20 AVENUE                      1\n",
       "657 SAGAMORE STREET                  1\n",
       "140-34 159 STREET                    1\n",
       "245 7 STREET                         1\n",
       "170-18 90 AVENUE                     1\n",
       "1983 EASTERN PARKWAY EXTENSION       1\n",
       "126-08 LIBERTY AVENUE                1\n",
       "7511 FT HAMILTON PARKWAY             1\n",
       "112-08 COLFAX STREET                 1\n",
       "1053 DUNCAN STREET                   1\n",
       "219 EAST 89 STREET                   1\n",
       "2889 VALENTINE AVENUE                1\n",
       "157 EAST 118 STREET                  1\n",
       "355 SOUTH 3 STREET                   1\n",
       "85-23 79 STREET                      1\n",
       "102 BAY   32 STREET                  1\n",
       "221 EAST    5 STREET                 1\n",
       "109-64 131 STREET                    1\n",
       "2034 78 STREET                       1\n",
       "267 AMBOY STREET                     1\n",
       "349 EAST 104 STREET                  1\n",
       "540 WEST 55 STREET                   1\n",
       "2106 UNION STREET                    1\n",
       "132 HURON STREET                     1\n",
       "18 PATCHEN AVENUE                    1\n",
       "14-34 28 AVENUE                      1\n",
       "18-25 124 STREET                     1\n",
       "360 BEACH   47 STREET                1\n",
       "85 COMSTOCK AVENUE                   1\n",
       "Name: incident_address, Length: 93798, dtype: int64"
      ]
     },
     "execution_count": 13,
     "metadata": {},
     "output_type": "execute_result"
    }
   ],
   "source": [
    "df1 = df[df['complaint_type'].str.contains(\"HEAT/HOT WATER\")] # filtering complaint tyes containing the top complaint determined in Question 1\n",
    "df1['incident_address'].value_counts() # total count of complaints by street address"
   ]
  },
  {
   "cell_type": "code",
   "execution_count": 16,
   "metadata": {},
   "outputs": [
    {
     "data": {
      "image/png": "[encoded data removed]",
      "text/plain": [
       "<Figure size 640x480 with 1 Axes>"
      ]
     },
     "metadata": {},
     "output_type": "display_data"
    }
   ],
   "source": [
    "import matplotlib.pyplot as plt; plt.rcdefaults()\n",
    "import numpy as np\n",
    "import matplotlib.pyplot as plt\n",
    "\n",
    "objects = ('89-21 ELMHURST AVENUE', '1025 BOYNTON AVENUE', '34 ARDEN STREET', '9511 SHORE ROAD', '2090 EAST TREMONT AVENUE')\n",
    "y_pos = np.arange(len(objects))\n",
    "performance = [9546,5208,4929,3978,3573]\n",
    "\n",
    "plt.barh(y_pos, performance, align='center', alpha=0.5)\n",
    "plt.yticks(y_pos, objects)\n",
    "plt.xlabel('Number of Complaints')\n",
    "plt.title('Top 5 Addresses')\n",
    "\n",
    "plt.show()"
   ]
  },
  {
   "cell_type": "markdown",
   "metadata": {},
   "source": [
    "## It looks like there are four addresses with an unusually high volume of complaints.  Perhaps these building are unusually old and or large.\n",
    "\n",
    "### 89-21 ELMHURST AVENUE             9546\n",
    "### 1025 BOYNTON AVENUE               5208\n",
    "### 34 ARDEN STREET                   4929\n",
    "### 9511 SHORE ROAD                   3978\n"
   ]
  },
  {
   "cell_type": "code",
   "execution_count": 53,
   "metadata": {},
   "outputs": [
    {
     "data": {
      "text/plain": [
       "GRAND CONCOURSE               20439\n",
       "BROADWAY                      14476\n",
       "ELMHURST AVENUE                9955\n",
       "OCEAN AVENUE                   9305\n",
       "MORRIS AVENUE                  9130\n",
       "BOYNTON AVENUE                 8405\n",
       "ST NICHOLAS AVENUE             7917\n",
       "AMSTERDAM AVENUE               6879\n",
       "DR M L KING JR BOULEVARD       6358\n",
       "OCEAN PARKWAY                  5901\n",
       "LINDEN BOULEVARD               5689\n",
       "ARDEN STREET                   5634\n",
       "DECATUR AVENUE                 5286\n",
       "SEDGWICK AVENUE                5180\n",
       "WALTON AVENUE                  5159\n",
       "EAST TREMONT AVENUE            4908\n",
       "CRESTON AVENUE                 4858\n",
       "BEDFORD AVENUE                 4853\n",
       "NOSTRAND AVENUE                4728\n",
       "FULTON STREET                  4710\n",
       "RIVERSIDE DRIVE                4585\n",
       "EASTERN PARKWAY                4516\n",
       "SHORE ROAD                     4516\n",
       "2 AVENUE                       4405\n",
       "WASHINGTON AVENUE              4261\n",
       "SHERIDAN AVENUE                4161\n",
       "DAVIDSON AVENUE                4141\n",
       "3 AVENUE                       3964\n",
       "WALLACE AVENUE                 3930\n",
       "ADAM C POWELL BOULEVARD        3879\n",
       "                              ...  \n",
       "PARKVIEW LOOP                     1\n",
       "226 DRIVE                         1\n",
       "HOLSMAN ROAD                      1\n",
       "ZION STREET                       1\n",
       "BEACH  105 STREET                 1\n",
       "DEPEW AVENUE                      1\n",
       "SKIDMORE PLACE                    1\n",
       "OLD WOODPOINT ROAD                1\n",
       "ROACKAWAY PARKWAY                 1\n",
       "MERIDIAN BOULEVARD                1\n",
       "ADAMS AVENUE                      1\n",
       "90 ROAD                           1\n",
       "HASPEL STREET                     1\n",
       "AVENUE ST JOHNS                   1\n",
       "BENTON COURT                      1\n",
       "FATHER CAPODANNO BOULEVARD        1\n",
       "BUCHANAN STREET                   1\n",
       "FANCHON PLACE                     1\n",
       "SIMONSON STREET                   1\n",
       "LAGUNA LANE                       1\n",
       "GOETHALS AVENUE                   1\n",
       "BRIGHTON    1 COURT               1\n",
       "EGBERT AVENUE                     1\n",
       "BAY 47 STREET                     1\n",
       "COLLYER AVENUE                    1\n",
       "QUARRY ROAD                       1\n",
       "GARDNER AVENUE                    1\n",
       "EFFINGHAM AVENUE                  1\n",
       "ST ANN'S AVENUE                   1\n",
       "LENHART STREET                    1\n",
       "Name: street_name, Length: 5228, dtype: int64"
      ]
     },
     "execution_count": 53,
     "metadata": {},
     "output_type": "execute_result"
    }
   ],
   "source": [
    "df1['street_name'].value_counts() # total count of complaints by street name"
   ]
  },
  {
   "cell_type": "code",
   "execution_count": 17,
   "metadata": {},
   "outputs": [
    {
     "data": {
      "image/png": "[encoded data removed]",
      "text/plain": [
       "<Figure size 640x480 with 1 Axes>"
      ]
     },
     "metadata": {},
     "output_type": "display_data"
    }
   ],
   "source": [
    "objects = ('GRAND CONCOURSE', 'BROADWAY', 'ELMHURST AVENUE', 'OCEAN AVENUE', 'MORRIS AVENUE')\n",
    "y_pos = np.arange(len(objects))\n",
    "performance = [20439,14476,9955,9305,9130]\n",
    "\n",
    "plt.barh(y_pos, performance, align='center', alpha=0.5)\n",
    "plt.yticks(y_pos, objects)\n",
    "plt.xlabel('Number of Complaints')\n",
    "plt.title('Top 5 Streets')\n",
    "\n",
    "plt.show()"
   ]
  },
  {
   "cell_type": "markdown",
   "metadata": {},
   "source": [
    "### The top two streets stick out to me and appear to have provided a substantial amount of heat and hot water complaints over the years.  Perhaps this means utility infrastructure is bad on these streets, or maybe the streets are more populated with older and larger buildings."
   ]
  },
  {
   "cell_type": "code",
   "execution_count": 54,
   "metadata": {},
   "outputs": [
    {
     "data": {
      "text/plain": [
       "11226.0    38429\n",
       "10458.0    35857\n",
       "10467.0    34945\n",
       "10468.0    31460\n",
       "10453.0    31395\n",
       "10452.0    25900\n",
       "10031.0    25255\n",
       "10457.0    24866\n",
       "10456.0    23764\n",
       "10462.0    23556\n",
       "11225.0    22974\n",
       "11213.0    21298\n",
       "10040.0    21092\n",
       "10472.0    20158\n",
       "10032.0    18944\n",
       "10460.0    18372\n",
       "10463.0    18261\n",
       "10033.0    17907\n",
       "11212.0    17775\n",
       "11233.0    16102\n",
       "11373.0    15714\n",
       "10451.0    15278\n",
       "11203.0    14344\n",
       "10025.0    13845\n",
       "11221.0    13749\n",
       "10034.0    13653\n",
       "10466.0    13301\n",
       "11207.0    13167\n",
       "11216.0    13114\n",
       "10027.0    12772\n",
       "           ...  \n",
       "10044.0      217\n",
       "10464.0      210\n",
       "10312.0      183\n",
       "10309.0      173\n",
       "11426.0      172\n",
       "10007.0      158\n",
       "10006.0      149\n",
       "10282.0      143\n",
       "11004.0      133\n",
       "10308.0      115\n",
       "11362.0       98\n",
       "10307.0       87\n",
       "11001.0       66\n",
       "10005.0       59\n",
       "10004.0       47\n",
       "11697.0       46\n",
       "11040.0       40\n",
       "10280.0       40\n",
       "11109.0       18\n",
       "10069.0       17\n",
       "11005.0        7\n",
       "10162.0        5\n",
       "10041.0        3\n",
       "10020.0        2\n",
       "10169.0        2\n",
       "10121.0        1\n",
       "10129.0        1\n",
       "10103.0        1\n",
       "10045.0        1\n",
       "12345.0        1\n",
       "Name: incident_zip, Length: 190, dtype: int64"
      ]
     },
     "execution_count": 54,
     "metadata": {},
     "output_type": "execute_result"
    }
   ],
   "source": [
    "df1['incident_zip'].value_counts() # total number of Heat/Hot Water complaints by zip code."
   ]
  },
  {
   "cell_type": "code",
   "execution_count": 19,
   "metadata": {},
   "outputs": [
    {
     "data": {
      "image/png": "[encoded data removed]",
      "text/plain": [
       "<Figure size 640x480 with 1 Axes>"
      ]
     },
     "metadata": {},
     "output_type": "display_data"
    }
   ],
   "source": [
    "objects = ('11226', '10458', '10467', '10468', '10453')\n",
    "y_pos = np.arange(len(objects))\n",
    "performance = [38429,35857,34945,31460,31395]\n",
    "\n",
    "plt.barh(y_pos, performance, align='center', alpha=0.5)\n",
    "plt.yticks(y_pos, objects)\n",
    "plt.xlabel('Number of Complaints')\n",
    "plt.title('Top 5 Zip Codes')\n",
    "\n",
    "plt.show()"
   ]
  },
  {
   "cell_type": "markdown",
   "metadata": {},
   "source": [
    "### The top five zipcodes stick out to me a little bit, but they aren't drastically higher than those below them, as there seems to be a pretty smooth downward trend in the number of complaints as you descend the output list.\n",
    "\n",
    "### 11226 ----  38429\n",
    "### 10458 ----  35857\n",
    "### 10467 ----  34945\n",
    "### 10468 ----  31460\n",
    "### 10453 ----  31395"
   ]
  },
  {
   "cell_type": "code",
   "execution_count": 55,
   "metadata": {},
   "outputs": [
    {
     "data": {
      "text/plain": [
       "BRONX            376186\n",
       "BROOKLYN         354626\n",
       "MANHATTAN        262520\n",
       "QUEENS           153404\n",
       "STATEN ISLAND     11479\n",
       "Unspecified           1\n",
       "Name: borough, dtype: int64"
      ]
     },
     "execution_count": 55,
     "metadata": {},
     "output_type": "execute_result"
    }
   ],
   "source": [
    "df1['borough'].value_counts() # total number of Heat/Hot Water complaints by borough."
   ]
  },
  {
   "cell_type": "code",
   "execution_count": 20,
   "metadata": {},
   "outputs": [
    {
     "data": {
      "image/png": "[encoded data removed]",
      "text/plain": [
       "<Figure size 640x480 with 1 Axes>"
      ]
     },
     "metadata": {},
     "output_type": "display_data"
    }
   ],
   "source": [
    "objects = ('Bronx', 'Brooklyn', 'Manhattan', 'Queens', 'Staten Island')\n",
    "y_pos = np.arange(len(objects))\n",
    "performance = [376186,354626,262520,153404,11479]\n",
    "\n",
    "plt.barh(y_pos, performance, align='center', alpha=0.5)\n",
    "plt.yticks(y_pos, objects)\n",
    "plt.xlabel('Number of Complaints')\n",
    "plt.title('Borough Rankings')\n",
    "\n",
    "plt.show()"
   ]
  },
  {
   "cell_type": "markdown",
   "metadata": {},
   "source": [
    "### The borough with the most heat/hot water complaints is the Bronx, followed closely by Brooklyn.  If we were going to pick a borough to focus on, the Bronx would be a good start."
   ]
  },
  {
   "cell_type": "markdown",
   "metadata": {},
   "source": [
    "# Conclusions and Remarks\n",
    "\n",
    "## It seems like there are several geographic possibilites depending on the scale the city would want to approach this.  At the Borough level, focus on the Bronx.  At the zip code level, focus on zip code 11226.  At the street level, focus on Grand Concourse.  And finally, at the address level, focus on 89-21 Elmhurst Avenue."
   ]
  }
 ],
 "metadata": {
  "kernelspec": {
   "display_name": "Python 3",
   "language": "python",
   "name": "python3"
  },
  "language_info": {
   "codemirror_mode": {
    "name": "ipython",
    "version": 3
   },
   "file_extension": ".py",
   "mimetype": "text/x-python",
   "name": "python",
   "nbconvert_exporter": "python",
   "pygments_lexer": "ipython3",
   "version": "3.7.3"
  }
 },
 "nbformat": 4,
 "nbformat_minor": 4
}
